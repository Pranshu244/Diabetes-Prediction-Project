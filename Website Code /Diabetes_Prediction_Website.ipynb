{
  "nbformat": 4,
  "nbformat_minor": 0,
  "metadata": {
    "colab": {
      "provenance": [],
      "authorship_tag": "ABX9TyNeXBK7m2YXqa3dTe4OfQ2V",
      "include_colab_link": true
    },
    "kernelspec": {
      "name": "python3",
      "display_name": "Python 3"
    },
    "language_info": {
      "name": "python"
    }
  },
  "cells": [
    {
      "cell_type": "markdown",
      "metadata": {
        "id": "view-in-github",
        "colab_type": "text"
      },
      "source": [
        "<a href=\"https://colab.research.google.com/github/Pranshu244/Diabetes-Prediction-Project/blob/main/Website%20Code%20/Diabetes_Prediction_Website.ipynb\" target=\"_parent\"><img src=\"https://colab.research.google.com/assets/colab-badge.svg\" alt=\"Open In Colab\"/></a>"
      ]
    },
    {
      "cell_type": "code",
      "execution_count": null,
      "metadata": {
        "id": "p_vSyxPU9vrg"
      },
      "outputs": [],
      "source": [
        "!pip install streamlit"
      ]
    },
    {
      "cell_type": "code",
      "source": [
        "%%writefile Diabetes_Prediction_Website.py\n",
        "#import\n",
        "import streamlit as st\n",
        "import pickle\n",
        "from sklearn.preprocessing import StandardScaler\n",
        "import numpy as np\n",
        "\n",
        "#File Upload\n",
        "st.markdown(\"<h1 style='text-align: center; font-weight: bold; font-style: italic;'>Diabetes Predictor</h1>\", unsafe_allow_html=True)\n",
        "st.markdown(\"<p style='text-align: center;  font-style: italic;'>This is just an AI prediction. Doctor consultation is always recommended</p>\", unsafe_allow_html=True)\n",
        "uploaded_model = st.file_uploader(\"Upload model_d.pkl\",type='pkl')\n",
        "if uploaded_model is not None:\n",
        "  scalar,loaded_model=pickle.load(uploaded_model)\n",
        "  st.session_state['scalar']=scalar\n",
        "  st.session_state['model']=loaded_model\n",
        "  st.success(\"Model loaded successfully!\")\n",
        "else:\n",
        "  st.error(\"Please upload model_d.pkl\")\n",
        "\n",
        "#inputs\n",
        "age = st.number_input(\"**Enter your Age(years):**\",min_value=0,step=1)\n",
        "bmi = st.number_input(\"**Enter your BMI(kg/m²):**\",min_value=0.00,step=0.01)\n",
        "glucose = st.number_input(\"**Enter your Plasma Glucose level(mg/dl):**\",min_value=0.00,step=0.01)\n",
        "insulin = st.number_input(\"**Enter your Insulin level(µU/mL):**\",min_value=0.00,step=0.01)\n",
        "bp = st.number_input(\"**Enter your Diastolic Blood Pressure(mm Hg):**\",min_value=0.00,step=0.01)\n",
        "preg = st.number_input(\"**Enter the number of Pregnancy:**\",min_value=0,step=1)\n",
        "skin = st.number_input(\"**Enter your Triceps skin fold thickness(mm):**\",min_value=0.00,step=0.01,value=29.15)\n",
        "dpf = st.number_input(\"**Diabetes Pedigree Function (DPF):**\",min_value=0.000, max_value=2.500, step=0.001,value=0.476)\n",
        "\n",
        "#Button and Prediction\n",
        "if st.button(\"Predict\"):\n",
        "  input=np.array([[preg,glucose,bp,skin,insulin,bmi,dpf,age]])\n",
        "  model=st.session_state.get('model',None)\n",
        "  scaler=st.session_state.get('scalar',None)\n",
        "  if model and scalar:\n",
        "    input=scaler.transform(input)\n",
        "    prediction=model.predict(input)\n",
        "    if prediction==0:\n",
        "      st.write(\"**You have the possibility of not having diabetes.**\")\n",
        "    else:\n",
        "      st.write(\"**You have the possibility of having diabetes. Please consult a doctor**\")\n",
        "  else:\n",
        "    st.error(\"Please upload model_d.pkl\")\n",
        "\n",
        "#Background color\n",
        "st.markdown(\n",
        "    \"\"\"\n",
        "    <style>\n",
        "    .stApp{\n",
        "        background-color: #C1E1C1;\n",
        "    }\n",
        "    </style>\n",
        "    \"\"\",\n",
        "    unsafe_allow_html=True\n",
        ")"
      ],
      "metadata": {
        "id": "toulVjx5-HuY"
      },
      "execution_count": null,
      "outputs": []
    },
    {
      "cell_type": "code",
      "source": [
        "!wget -q -O - ipv4.icanhazip.com"
      ],
      "metadata": {
        "id": "43kOuy49-ucJ"
      },
      "execution_count": null,
      "outputs": []
    },
    {
      "cell_type": "code",
      "source": [
        "!streamlit run Diabetes_Prediction_Website.py & npx localtunnel --port 8501"
      ],
      "metadata": {
        "id": "vZSGJFE3K5JW"
      },
      "execution_count": null,
      "outputs": []
    }
  ]
}